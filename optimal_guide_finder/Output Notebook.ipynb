{
 "cells": [
  {
   "cell_type": "code",
   "execution_count": 2,
   "metadata": {},
   "outputs": [],
   "source": [
    "import numpy as np\n",
    "import pandas as pd \n",
    "\n",
    "sample_input = []\n",
    "for i in range(10):\n",
    "    guide_info = np.random.rand(1,4)[0]\n",
    "    sample_input.append(guide_info)\n",
    "\n",
    "np_sample_input = np.array(sample_input)\n"
   ]
  },
  {
   "cell_type": "code",
   "execution_count": 3,
   "metadata": {},
   "outputs": [
    {
     "data": {
      "text/plain": [
       "array([[0.06321014, 0.08977912, 0.1834187 , 0.27772249],\n",
       "       [0.44790405, 0.21451398, 0.12394862, 0.55717913],\n",
       "       [0.97405406, 0.06168911, 0.69638763, 0.74689352],\n",
       "       [0.42916832, 0.60573619, 0.15081713, 0.5241085 ],\n",
       "       [0.59368887, 0.57859608, 0.51282839, 0.53284954],\n",
       "       [0.38288979, 0.0429713 , 0.91327003, 0.96784564],\n",
       "       [0.65640833, 0.34598421, 0.08628708, 0.48713205],\n",
       "       [0.43147603, 0.41139501, 0.18545526, 0.60770601],\n",
       "       [0.3004354 , 0.09988374, 0.14144762, 0.03547799],\n",
       "       [0.69172271, 0.0324036 , 0.56374175, 0.62121338]])"
      ]
     },
     "execution_count": 3,
     "metadata": {},
     "output_type": "execute_result"
    }
   ],
   "source": [
    "np_sample_input = np.array(sample_input)\n",
    "np_sample_input"
   ]
  },
  {
   "cell_type": "code",
   "execution_count": 4,
   "metadata": {},
   "outputs": [],
   "source": [
    "def Find_Entropy(guide_info):\n",
    "    guide_seq = guide_info[0][0]\n",
    "    guide_location = guide_info[0][1]\n",
    "    guide_strand = guide_info[0][2]\n",
    "    guide_calc_time = guide_info[0][3]\n",
    "    guide_entropy = 0\n",
    "    for off_target in guide_info[1:,:]:\n",
    "        probability = off_target[1]/100\n",
    "        guide_entropy -= probability*np.log2(probability)\n",
    "    guide_series = pd.Series([guide_seq, \n",
    "                              guide_location, \n",
    "                              guide_strand, \n",
    "                              guide_calc_time, \n",
    "                              guide_entropy], \n",
    "                             index = [\"Guide Sequence\", \n",
    "                                      \"Guide Location\", \n",
    "                                      \"Targetted Strand\", \n",
    "                                      \"Caculation Time\", \n",
    "                                      \"Guide Entropy\"])\n",
    "    return guide_series"
   ]
  },
  {
   "cell_type": "code",
   "execution_count": 5,
   "metadata": {},
   "outputs": [
    {
     "data": {
      "text/plain": [
       "Guide Sequence      0.063210\n",
       "Guide Location      0.089779\n",
       "Targetted Strand    0.183419\n",
       "Caculation Time     0.277722\n",
       "Guide Entropy       0.192634\n",
       "dtype: float64"
      ]
     },
     "execution_count": 5,
     "metadata": {},
     "output_type": "execute_result"
    }
   ],
   "source": [
    "Find_Entropy(np_sample_input)"
   ]
  },
  {
   "cell_type": "code",
   "execution_count": 7,
   "metadata": {},
   "outputs": [
    {
     "data": {
      "text/plain": [
       "array([[0.20305425, 0.92291881, 0.48254767, 0.69735664],\n",
       "       [0.4349379 , 0.63039434, 0.65820731, 0.02316332],\n",
       "       [0.58044607, 0.97293434, 0.11135889, 0.43414429],\n",
       "       [0.97051379, 0.81479843, 0.38135114, 0.03148594],\n",
       "       [0.65298851, 0.09465939, 0.68514522, 0.79364328],\n",
       "       [0.32425478, 0.30456306, 0.6249672 , 0.8359817 ],\n",
       "       [0.0693691 , 0.84227464, 0.04435414, 0.71685712],\n",
       "       [0.87252557, 0.57590422, 0.84207306, 0.58680624],\n",
       "       [0.05735233, 0.27524449, 0.5959375 , 0.52704237],\n",
       "       [0.85367924, 0.90675653, 0.28098115, 0.74196311]])"
      ]
     },
     "execution_count": 7,
     "metadata": {},
     "output_type": "execute_result"
    }
   ],
   "source": []
  },
  {
   "cell_type": "code",
   "execution_count": null,
   "metadata": {},
   "outputs": [],
   "source": []
  },
  {
   "cell_type": "code",
   "execution_count": null,
   "metadata": {},
   "outputs": [],
   "source": []
  }
 ],
 "metadata": {
  "kernelspec": {
   "display_name": "Python 3",
   "language": "python",
   "name": "python3"
  },
  "language_info": {
   "codemirror_mode": {
    "name": "ipython",
    "version": 3
   },
   "file_extension": ".py",
   "mimetype": "text/x-python",
   "name": "python",
   "nbconvert_exporter": "python",
   "pygments_lexer": "ipython3",
   "version": "3.7.4"
  }
 },
 "nbformat": 4,
 "nbformat_minor": 2
}
