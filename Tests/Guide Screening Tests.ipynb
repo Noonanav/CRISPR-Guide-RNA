{
 "cells": [
  {
   "cell_type": "code",
   "execution_count": 26,
   "metadata": {},
   "outputs": [
    {
     "data": {
      "text/plain": [
       "[SeqRecord(seq=Seq('CTTTTTTGTAGCCGGTCTCA', SingleLetterAlphabet()), id='Avery_Sequence1', name='Avery_Sequence1', description='Avery_Sequence1', dbxrefs=[]),\n",
       " SeqRecord(seq=Seq('CTTTTTTGTAGCCGGTCTCA', SingleLetterAlphabet()), id='Avery_Sequence2', name='Avery_Sequence2', description='Avery_Sequence2', dbxrefs=[]),\n",
       " SeqRecord(seq=Seq('CTTTTTTGTAGCCGGTCTCA', SingleLetterAlphabet()), id='Avery_Sequence3', name='Avery_Sequence3', description='Avery_Sequence3', dbxrefs=[]),\n",
       " SeqRecord(seq=Seq('CTTTTTTGTAGCCGGTCTCA', SingleLetterAlphabet()), id='Avery_Sequence4', name='Avery_Sequence4', description='Avery_Sequence4', dbxrefs=[])]"
      ]
     },
     "execution_count": 26,
     "metadata": {},
     "output_type": "execute_result"
    }
   ],
   "source": [
    "from Bio import SeqIO\n",
    "from Bio.Seq import Seq\n",
    "\n",
    "Targets = []\n",
    "for contig in SeqIO.parse(\"/Users/Siddarth/Documents/Code/CRISPR_Guide_RNA/Fasta_Files/Guide_Sequences\", \"fasta\"):\n",
    "    Targets.append(contig)\n",
    "    \n",
    "Targets"
   ]
  },
  {
   "cell_type": "code",
   "execution_count": 29,
   "metadata": {},
   "outputs": [],
   "source": [
    "Targets = list(map(lambda Targets:str(Targets.seq),Targets))"
   ]
  },
  {
   "cell_type": "code",
   "execution_count": 30,
   "metadata": {},
   "outputs": [
    {
     "data": {
      "text/plain": [
       "['CTTTTTTGTAGCCGGTCTCA',\n",
       " 'CTTTTTTGTAGCCGGTCTCA',\n",
       " 'CTTTTTTGTAGCCGGTCTCA',\n",
       " 'CTTTTTTGTAGCCGGTCTCA']"
      ]
     },
     "execution_count": 30,
     "metadata": {},
     "output_type": "execute_result"
    }
   ],
   "source": [
    "Targets"
   ]
  },
  {
   "cell_type": "code",
   "execution_count": 32,
   "metadata": {},
   "outputs": [
    {
     "data": {
      "text/plain": [
       "SeqRecord(seq=Seq('GGTTACGAAATTAGCGCCATTTTTACCCATACTGATAATCCCGGTGAAAAAGCC...CGG', SingleLetterAlphabet()), id='NZ_CP027060.1', name='NZ_CP027060.1', description='NZ_CP027060.1 Escherichia coli str. K-12 substr. MG1655 strain K-12 chromosome', dbxrefs=[])"
      ]
     },
     "execution_count": 32,
     "metadata": {},
     "output_type": "execute_result"
    }
   ],
   "source": [
    "Genome = SeqIO.read(\"/Users/Siddarth/Documents/Code/CRISPR_Guide_RNA/Fasta_Files/E_coli_MG1655_genome.fasta\",\"fasta\")\n",
    "Genome"
   ]
  },
  {
   "cell_type": "code",
   "execution_count": null,
   "metadata": {},
   "outputs": [],
   "source": []
  }
 ],
 "metadata": {
  "kernelspec": {
   "display_name": "Python 3",
   "language": "python",
   "name": "python3"
  },
  "language_info": {
   "codemirror_mode": {
    "name": "ipython",
    "version": 3
   },
   "file_extension": ".py",
   "mimetype": "text/x-python",
   "name": "python",
   "nbconvert_exporter": "python",
   "pygments_lexer": "ipython3",
   "version": "3.7.3"
  }
 },
 "nbformat": 4,
 "nbformat_minor": 2
}
