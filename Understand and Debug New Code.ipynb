{
 "cells": [
  {
   "cell_type": "code",
   "execution_count": 6,
   "metadata": {},
   "outputs": [],
   "source": [
    "import numpy as np\n",
    "from Bio.Alphabet import generic_dna\n",
    "from Bio import SeqIO\n",
    "from Bio.Seq import Seq\n",
    "import argparse\n",
    "from Cas9_Calculator import *\n",
    "from argparse import RawTextHelpFormatter\n",
    "import time"
   ]
  },
  {
   "cell_type": "code",
   "execution_count": 11,
   "metadata": {},
   "outputs": [],
   "source": [
    "def Get_Sequence(args):\n",
    "\n",
    "    #Reads the file using biopython and creates a object called target\n",
    "    Target_Dict = SeqIO.to_dict(SeqIO.parse(args.target_sequence, args.genome_sequence[0].split('.')[1]))\n",
    "\n",
    "    for name in Target_Dict:\n",
    "        Target_Dict[name] = Target_Dict[name].seq.upper()\n",
    "\n",
    "    #Reads the Genome files using biopython and combines them into one genome object\n",
    "    Genome = SeqIO.read(args.genome_sequence[0], args.genome_sequence[0].split('.')[1])\n",
    "    for i in range(1,len(args.genome_sequence)):\n",
    "        Genome  = Genome + SeqIO.read(args.genome_sequence[i], args.genome_sequence[i].split('.')[1])\n",
    "\n",
    "    return Target_Dict, Genome.upper()"
   ]
  },
  {
   "cell_type": "code",
   "execution_count": 8,
   "metadata": {},
   "outputs": [],
   "source": [
    "def PAM_Finder(Sequence):\n",
    "\n",
    "    #initalize arguements into variables for the user\n",
    "    PAM = \"GG\"\n",
    "    guide_RNA_length = 20 \n",
    "    Discard = \"C\"\n",
    "\n",
    "    Locations = []\n",
    "\n",
    "    Sequence = str(Sequence)\n",
    "    Position = 0\n",
    "    while Position < len(Sequence):\n",
    "        i = Sequence[Position:].find(PAM)\n",
    "        #Finds the location of the next cut argument which might be an issue\n",
    "        potential_guide_location = Position + i - guide_RNA_length\n",
    "        discard = any(cutsite in Sequence[potential_guide_location: potential_guide_location + guide_RNA_length] for cut_site in args.cut)\n",
    "    \n",
    "        if i < 0:\n",
    "            break\n",
    "            \n",
    "        if(potential_guide_location > 0 and j < 0): \n",
    "            Locations.append(potential_guide_location)\n",
    "            print(\"Guide\")\n",
    "            print(Sequence[Position + i - guide_RNA_length :Position + i])\n",
    "            \n",
    "        Position = Position + i + 1\n",
    "\n",
    "    return Locations"
   ]
  },
  {
   "cell_type": "code",
   "execution_count": 16,
   "metadata": {
    "scrolled": false
   },
   "outputs": [
    {
     "data": {
      "text/plain": [
       "SeqRecord(seq=Seq('ATGCCCGATCGCGCTCAAGTAATCATTCGCATTGTGCCAGGAGGTGGAACCAAG...TAG', SingleLetterAlphabet()), id='virD2', name='virD2', description='virD2  (1275 bp)', dbxrefs=[])"
      ]
     },
     "execution_count": 16,
     "metadata": {},
     "output_type": "execute_result"
    }
   ],
   "source": [
    "#Reads the file using biopython and creates a object called target\n",
    "Target_Dict = SeqIO.to_dict(SeqIO.parse(\"Virb6.fasta\", \"fasta\"))\n",
    "\n",
    "for name in Target_Dict:\n",
    "    Target_Dict[name] = Target_Dict[name].seq.upper()\n",
    "\n",
    "#Reads the Genome files using biopython and combines them into one genome object\n",
    "Genome = SeqIO.read(\"virD2.fasta\", \"fasta\")\n",
    "\n",
    "type(Genome.upper())\n",
    "Genome.upper()"
   ]
  },
  {
   "cell_type": "code",
   "execution_count": 20,
   "metadata": {},
   "outputs": [
    {
     "data": {
      "text/plain": [
       "False"
      ]
     },
     "execution_count": 20,
     "metadata": {},
     "output_type": "execute_result"
    }
   ],
   "source": [
    "cut = None\n",
    "if cut == None:\n",
    "    cut = []\n",
    "discard = any(cutsite in Sequence[potential_guide_location: potential_guide_location + guide_RNA_length] for cut_site in cut)\n",
    "\n",
    "\n",
    "discard"
   ]
  },
  {
   "cell_type": "code",
   "execution_count": null,
   "metadata": {},
   "outputs": [],
   "source": []
  },
  {
   "cell_type": "code",
   "execution_count": null,
   "metadata": {},
   "outputs": [],
   "source": []
  }
 ],
 "metadata": {
  "kernelspec": {
   "display_name": "Python 3",
   "language": "python",
   "name": "python3"
  },
  "language_info": {
   "codemirror_mode": {
    "name": "ipython",
    "version": 3
   },
   "file_extension": ".py",
   "mimetype": "text/x-python",
   "name": "python",
   "nbconvert_exporter": "python",
   "pygments_lexer": "ipython3",
   "version": "3.7.3"
  }
 },
 "nbformat": 4,
 "nbformat_minor": 2
}
