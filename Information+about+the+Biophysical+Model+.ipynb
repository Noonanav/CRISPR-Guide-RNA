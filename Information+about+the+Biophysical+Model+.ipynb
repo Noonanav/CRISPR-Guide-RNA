{
 "cells": [
  {
   "cell_type": "code",
   "execution_count": 1,
   "metadata": {
    "collapsed": false
   },
   "outputs": [
    {
     "name": "stdout",
     "output_type": "stream",
     "text": [
      "Populating the interactive namespace from numpy and matplotlib\n"
     ]
    }
   ],
   "source": [
    "%pylab inline "
   ]
  },
  {
   "cell_type": "markdown",
   "metadata": {},
   "source": [
    "# Information about the Biophysical model: \n",
    "    1. The output target sequences seem to be present in the genome and seem to be PAM sites. \n",
    "    2. The Input takes a single Guide RNA and runs the model. \n",
    "    3. The model has two modes, quick and all data. \n",
    "    4. The output data has been analysed below. \n",
    "    5. I haven't checked the ability to check for guide RNAs in the coding strand.\n",
    "    "
   ]
  },
  {
   "cell_type": "code",
   "execution_count": 30,
   "metadata": {
    "collapsed": false
   },
   "outputs": [
    {
     "name": "stdout",
     "output_type": "stream",
     "text": [
      "A :  TCAACTCGGCGTCAATTTGT\n",
      "B :  CAGCCAAGCCGCCAGTTTGT\n",
      "C :  CCACCATTGCGGCGTTTTGT\n",
      "Target Sequence is equal to Sequence A\n"
     ]
    },
    {
     "data": {
      "image/png": "[encoded data removed]",
      "text/plain": [
       "<matplotlib.figure.Figure at 0x11221e710>"
      ]
     },
     "metadata": {},
     "output_type": "display_data"
    },
    {
     "data": {
      "text/plain": [
       "<matplotlib.legend.Legend at 0x110a66748>"
      ]
     },
     "execution_count": 30,
     "metadata": {},
     "output_type": "execute_result"
    },
    {
     "data": {
      "image/png": "[encoded data removed]",
      "text/plain": [
       "<matplotlib.figure.Figure at 0x11196b048>"
      ]
     },
     "metadata": {},
     "output_type": "display_data"
    }
   ],
   "source": [
    "#Run 1 Using a sequence manual selected from TI Plasmid.  \n",
    "\n",
    "Alphabet = [\"A\",\"B\",\"C\",\"D\"]\n",
    "X = [0,1,2,3]\n",
    "Sequences = [\"TCAACTCGGCGTCAATTTGT\",\"CAGCCAAGCCGCCAGTTTGT\",\"CCACCATTGCGGCGTTTTGT\",\"AGCCGACGAGTTGAATTTGT\"]\n",
    "Delta_Gs = [-9.52,-7.61,-6.99,-6.85]\n",
    "Partition = [83.2794825693,3.74977694002,1.37391454314,1.09660227396]\n",
    "Target_seq = \"TCAACTCGGCGTCAATTTGT\"\n",
    "\n",
    "for i in range (0,3):\n",
    "    print(Alphabet[i],\": \", Sequences[i])\n",
    "\n",
    "if (Target_seq == Sequences[0]):\n",
    "    print(\"Target Sequence is equal to Sequence A\")\n",
    "    \n",
    "xticks(X, Alphabet)\n",
    "scatter(X,Partition)\n",
    "legend(\"P\")\n",
    "show()\n",
    "\n",
    "xticks(X, Alphabet)\n",
    "scatter(X, Delta_Gs, c = 'blue')\n",
    "legend(\"G\")"
   ]
  },
  {
   "cell_type": "code",
   "execution_count": 23,
   "metadata": {
    "collapsed": false
   },
   "outputs": [
    {
     "name": "stdout",
     "output_type": "stream",
     "text": [
      "A :  GCATGAAGACCTGAAATTCT\n",
      "B :  TATATTGGCAAAGAAATTCT\n",
      "C :  ATACCGCTTACTGAAAATCT\n",
      "Target Sequence is NOT! equal to Sequence A\n"
     ]
    },
    {
     "data": {
      "image/png": "[encoded data removed]",
      "text/plain": [
       "<matplotlib.figure.Figure at 0x110dd27f0>"
      ]
     },
     "metadata": {},
     "output_type": "display_data"
    },
    {
     "data": {
      "text/plain": [
       "<matplotlib.legend.Legend at 0x110d1e390>"
      ]
     },
     "execution_count": 23,
     "metadata": {},
     "output_type": "execute_result"
    },
    {
     "data": {
      "image/png": "[encoded data removed]",
      "text/plain": [
       "<matplotlib.figure.Figure at 0x110fbafd0>"
      ]
     },
     "metadata": {},
     "output_type": "display_data"
    }
   ],
   "source": [
    "#Run 2: Using a sequence manually selected from the Ecoli Genome. \n",
    "\n",
    "Alphabet = [\"A\",\"B\",\"C\",\"D\"]\n",
    "X = [0,1,2,3]\n",
    "Sequences1 = [\"GCATGAAGACCTGAAATTCT\",\"TATATTGGCAAAGAAATTCT\",\"ATACCGCTTACTGAAAATCT\",\"CAAGGGATAGGCCACATTCT\"]\n",
    "Delta_Gs1 = [-7.6,-7.45,-7.13,-7.1]\n",
    "Partition1 = [13.2770516206,10.289112504,6.12811903605,5.88508523167]\n",
    "Target_seq1 = \"CTGCGTGTTGCCGATATTCT\"\n",
    "\n",
    "for i in range (0,3):\n",
    "    print(Alphabet[i],\": \", Sequences1[i])\n",
    "\n",
    "if (Target_seq1 == Sequences1[0]):\n",
    "    print(\"Target Sequence is equal to Sequence A\")\n",
    "else:\n",
    "    print(\"Target Sequence is NOT! equal to Sequence A\")\n",
    "    \n",
    "xticks(X, Alphabet)\n",
    "scatter(X,Partition1, c = 'red')\n",
    "legend(\"P\")\n",
    "show()\n",
    "\n",
    "xticks(X, Alphabet)\n",
    "scatter(X, Delta_Gs1, c = 'red')\n",
    "legend(\"G\")"
   ]
  },
  {
   "cell_type": "code",
   "execution_count": 28,
   "metadata": {
    "collapsed": false
   },
   "outputs": [
    {
     "data": {
      "image/png": "[encoded data removed]",
      "text/plain": [
       "<matplotlib.figure.Figure at 0x112288668>"
      ]
     },
     "metadata": {},
     "output_type": "display_data"
    },
    {
     "data": {
      "text/plain": [
       "<matplotlib.collections.PathCollection at 0x112311c50>"
      ]
     },
     "execution_count": 28,
     "metadata": {},
     "output_type": "execute_result"
    },
    {
     "data": {
      "image/png": "[encoded data removed]",
      "text/plain": [
       "<matplotlib.figure.Figure at 0x1113ac518>"
      ]
     },
     "metadata": {},
     "output_type": "display_data"
    }
   ],
   "source": [
    "#Comparision Code for the three outputs\n",
    "\n",
    "xticks(X, Alphabet)\n",
    "scatter(X,Partition)\n",
    "scatter(X,Partition1, c = 'red')\n",
    "show()\n",
    "\n",
    "xticks(X, Alphabet)\n",
    "scatter(X, Delta_Gs1, c = 'red')\n",
    "scatter(X, Delta_Gs,)\n",
    "\n",
    "\n"
   ]
  },
  {
   "cell_type": "markdown",
   "metadata": {},
   "source": []
  },
  {
   "cell_type": "code",
   "execution_count": null,
   "metadata": {
    "collapsed": true
   },
   "outputs": [],
   "source": []
  }
 ],
 "metadata": {
  "kernelspec": {
   "display_name": "Python 3",
   "language": "python",
   "name": "python3"
  },
  "language_info": {
   "codemirror_mode": {
    "name": "ipython",
    "version": 3
   },
   "file_extension": ".py",
   "mimetype": "text/x-python",
   "name": "python",
   "nbconvert_exporter": "python",
   "pygments_lexer": "ipython3",
   "version": "3.6.0"
  }
 },
 "nbformat": 4,
 "nbformat_minor": 2
}
